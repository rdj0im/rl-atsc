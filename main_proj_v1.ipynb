{
  "nbformat": 4,
  "nbformat_minor": 0,
  "metadata": {
    "colab": {
      "provenance": [],
      "mount_file_id": "1n2nmLWrPeu9UR78m95CzgFtz2lYacy0Z",
      "authorship_tag": "ABX9TyM8naihw0qQHD6J1qu+ITS7",
      "include_colab_link": true
    },
    "kernelspec": {
      "name": "python3",
      "display_name": "Python 3"
    },
    "language_info": {
      "name": "python"
    },
    "gpuClass": "standard"
  },
  "cells": [
    {
      "cell_type": "markdown",
      "metadata": {
        "id": "view-in-github",
        "colab_type": "text"
      },
      "source": [
        "<a href=\"https://colab.research.google.com/github/rdj0im/rl-atsc/blob/main/main_proj_v1.ipynb\" target=\"_parent\"><img src=\"https://colab.research.google.com/assets/colab-badge.svg\" alt=\"Open In Colab\"/></a>"
      ]
    },
    {
      "cell_type": "markdown",
      "source": [
        "Install SUMO"
      ],
      "metadata": {
        "id": "77a4anb8irRe"
      }
    },
    {
      "cell_type": "code",
      "execution_count": null,
      "metadata": {
        "id": "iC08dVJofoxr"
      },
      "outputs": [],
      "source": [
        "!sudo add-apt-repository -y ppa:sumo/stable\n",
        "!sudo apt-get update\n",
        "!sudo apt-get -y install sumo sumo-tools sumo-doc"
      ]
    },
    {
      "cell_type": "markdown",
      "source": [
        "Check Installation path (Unnecessary)"
      ],
      "metadata": {
        "id": "Fn5epCZ2ifSb"
      }
    },
    {
      "cell_type": "code",
      "source": [
        "!which sumo"
      ],
      "metadata": {
        "id": "iKRJTbmOiAjs"
      },
      "execution_count": null,
      "outputs": []
    },
    {
      "cell_type": "markdown",
      "source": [
        "Set sumo env vars"
      ],
      "metadata": {
        "id": "TF_SPd08ikyu"
      }
    },
    {
      "cell_type": "code",
      "source": [
        "import os\n",
        "\n",
        "# Set environment variable\n",
        "os.environ['SUMO_HOME'] = '/usr/share/sumo'\n",
        "os.environ['LIBSUMO_AS_TRACI'] = '1' #Optional: for a huge performance boost (~8x) with Libsumo (No GUI)"
      ],
      "metadata": {
        "id": "bFZ6ugYLiKpS"
      },
      "execution_count": 3,
      "outputs": []
    },
    {
      "cell_type": "markdown",
      "source": [
        "Setup working dir repo"
      ],
      "metadata": {
        "id": "Vnt8OIqEe8Z2"
      }
    },
    {
      "cell_type": "code",
      "source": [
        "!git clone https://github.com/rdj0im/rl-atsc.git\n",
        "!mv rl-atsc/* ./\n",
        "!rm -rf rl-atsc\n"
      ],
      "metadata": {
        "id": "LOoL7O0wfAAU"
      },
      "execution_count": null,
      "outputs": []
    },
    {
      "cell_type": "markdown",
      "source": [
        "**SUMO RL**"
      ],
      "metadata": {
        "id": "q34uA3wHi1Ou"
      }
    },
    {
      "cell_type": "markdown",
      "source": [
        "Install sumo-rl"
      ],
      "metadata": {
        "id": "Ur-8tiWTjABo"
      }
    },
    {
      "cell_type": "code",
      "source": [
        "!pip install sumo-rl"
      ],
      "metadata": {
        "id": "c6dQ1evZjCTv"
      },
      "execution_count": null,
      "outputs": []
    },
    {
      "cell_type": "markdown",
      "source": [
        "Main\n",
        "\n"
      ],
      "metadata": {
        "id": "UD9am7Udeju3"
      }
    },
    {
      "cell_type": "code",
      "source": [
        "import sumo_rl\n",
        "env = sumo_rl.parallel_env(net_file=r'sumo_files/4x4.net.xml',\n",
        "                  route_file=r'sumo_files/4x4c1c2c1c2.rou.xml',\n",
        "                  use_gui=False,\n",
        "                  num_seconds=60000)\n",
        "observations = env.reset()\n",
        "print (env.agents)\n",
        "# while env.agents:\n",
        "#     actions = {agent: env.action_space(agent).sample() for agent in env.agents} \n",
        "    # print (actions) # this is where you would insert your policy\n",
        "    # observations, rewards, terminations, truncations, infos = env.step(actions)"
      ],
      "metadata": {
        "id": "utE67O8xjmEP"
      },
      "execution_count": null,
      "outputs": []
    }
  ]
}