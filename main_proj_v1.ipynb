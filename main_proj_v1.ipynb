{
  "nbformat": 4,
  "nbformat_minor": 0,
  "metadata": {
    "colab": {
      "provenance": [],
      "mount_file_id": "1n2nmLWrPeu9UR78m95CzgFtz2lYacy0Z",
      "authorship_tag": "ABX9TyMQkbEwM7zVEpOscMwPXjtn",
      "include_colab_link": true
    },
    "kernelspec": {
      "name": "python3",
      "display_name": "Python 3"
    },
    "language_info": {
      "name": "python"
    },
    "gpuClass": "standard"
  },
  "cells": [
    {
      "cell_type": "markdown",
      "metadata": {
        "id": "view-in-github",
        "colab_type": "text"
      },
      "source": [
        "<a href=\"https://colab.research.google.com/github/rdj0im/rl-atsc/blob/main/main_proj_v1.ipynb\" target=\"_parent\"><img src=\"https://colab.research.google.com/assets/colab-badge.svg\" alt=\"Open In Colab\"/></a>"
      ]
    },
    {
      "cell_type": "markdown",
      "source": [
        "Install SUMO"
      ],
      "metadata": {
        "id": "77a4anb8irRe"
      }
    },
    {
      "cell_type": "code",
      "execution_count": null,
      "metadata": {
        "id": "iC08dVJofoxr"
      },
      "outputs": [],
      "source": [
        "!sudo add-apt-repository -y ppa:sumo/stable\n",
        "!sudo apt-get update\n",
        "!sudo apt-get -y install sumo sumo-tools sumo-doc"
      ]
    },
    {
      "cell_type": "markdown",
      "source": [
        "Check Installation path (Unnecessary)"
      ],
      "metadata": {
        "id": "Fn5epCZ2ifSb"
      }
    },
    {
      "cell_type": "code",
      "source": [
        "!which sumo"
      ],
      "metadata": {
        "id": "iKRJTbmOiAjs"
      },
      "execution_count": null,
      "outputs": []
    },
    {
      "cell_type": "markdown",
      "source": [
        "Set sumo env vars"
      ],
      "metadata": {
        "id": "TF_SPd08ikyu"
      }
    },
    {
      "cell_type": "code",
      "source": [
        "import os\n",
        "\n",
        "# Set environment variable\n",
        "os.environ['SUMO_HOME'] = '/usr/share/sumo'\n",
        "os.environ['LIBSUMO_AS_TRACI'] = '1' #Optional: for a huge performance boost (~8x) with Libsumo (No GUI)"
      ],
      "metadata": {
        "id": "bFZ6ugYLiKpS"
      },
      "execution_count": null,
      "outputs": []
    },
    {
      "cell_type": "markdown",
      "source": [
        "**SUMO RL**"
      ],
      "metadata": {
        "id": "q34uA3wHi1Ou"
      }
    },
    {
      "cell_type": "markdown",
      "source": [
        "Install sumo-rl"
      ],
      "metadata": {
        "id": "Ur-8tiWTjABo"
      }
    },
    {
      "cell_type": "markdown",
      "source": [
        "pip install"
      ],
      "metadata": {
        "id": "WhuVDSqKjFz5"
      }
    },
    {
      "cell_type": "code",
      "source": [
        "!pip install sumo-rl"
      ],
      "metadata": {
        "id": "c6dQ1evZjCTv"
      },
      "execution_count": null,
      "outputs": []
    },
    {
      "cell_type": "markdown",
      "source": [
        "(alternative) github install"
      ],
      "metadata": {
        "id": "ttSzn86BjKK2"
      }
    },
    {
      "cell_type": "code",
      "source": [
        "!git clone https://github.com/LucasAlegre/sumo-rl\n",
        "!cd sumo-rl\n",
        "!pip install -e ."
      ],
      "metadata": {
        "id": "XastJpc9jPHP"
      },
      "execution_count": null,
      "outputs": []
    },
    {
      "cell_type": "markdown",
      "source": [
        "Python Code"
      ],
      "metadata": {
        "id": "gH3aUPDfjYJv"
      }
    },
    {
      "cell_type": "markdown",
      "source": [
        "Mount drive "
      ],
      "metadata": {
        "id": "bBAI4XCEsH_x"
      }
    },
    {
      "cell_type": "code",
      "source": [
        "from google.colab import drive\n",
        "drive.mount('/content/drive/', force_remount=True)"
      ],
      "metadata": {
        "id": "rRnTeX8Aoczz"
      },
      "execution_count": null,
      "outputs": []
    },
    {
      "cell_type": "code",
      "source": [
        "!ls drive/My\\ Drive/sumo_files"
      ],
      "metadata": {
        "id": "8ELkm1A8pRIo"
      },
      "execution_count": null,
      "outputs": []
    },
    {
      "cell_type": "code",
      "source": [
        "import sumo_rl\n",
        "env = sumo_rl.parallel_env(net_file=r'drive/My Drive/sumo_files/4x4.net.xml',\n",
        "                  route_file=r'drive/My Drive/sumo_files/4x4c1c2c1c2.rou.xml',\n",
        "                  use_gui=False,\n",
        "                  num_seconds=3600)\n",
        "observations = env.reset()\n",
        "print (env.agents)\n",
        "# while env.agents:\n",
        "#     actions = {agent: env.action_space(agent).sample() for agent in env.agents} \n",
        "    # print (actions) # this is where you would insert your policy\n",
        "    # observations, rewards, terminations, truncations, infos = env.step(actions)"
      ],
      "metadata": {
        "id": "utE67O8xjmEP"
      },
      "execution_count": null,
      "outputs": []
    }
  ]
}